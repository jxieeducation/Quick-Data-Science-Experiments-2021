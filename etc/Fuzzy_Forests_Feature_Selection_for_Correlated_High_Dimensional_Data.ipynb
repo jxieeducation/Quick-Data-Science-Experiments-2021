{
 "cells": [
  {
   "cell_type": "markdown",
   "id": "066df861",
   "metadata": {},
   "source": [
    "Fuzzy Forests: Extending Random Forest Feature Selection for Correlated, High-Dimensional Data\n",
    "* relatively unbiased rankings of variableimportance in the presence of highly correlated features"
   ]
  },
  {
   "cell_type": "markdown",
   "id": "4c440d86",
   "metadata": {},
   "source": [
    "* random forest VIMs are biased when features are correlated with one another\n",
    "* Fuzzy Forest is piece wise\n",
    "    * group features into groups with high intra-group correlation\n",
    "    * recursive feature elimination random forest\n",
    "    * "
   ]
  },
  {
   "cell_type": "code",
   "execution_count": null,
   "id": "5ecd4027",
   "metadata": {},
   "outputs": [],
   "source": []
  },
  {
   "cell_type": "code",
   "execution_count": null,
   "id": "902f48e3",
   "metadata": {},
   "outputs": [],
   "source": []
  }
 ],
 "metadata": {
  "kernelspec": {
   "display_name": "Python 3",
   "language": "python",
   "name": "python3"
  },
  "language_info": {
   "codemirror_mode": {
    "name": "ipython",
    "version": 3
   },
   "file_extension": ".py",
   "mimetype": "text/x-python",
   "name": "python",
   "nbconvert_exporter": "python",
   "pygments_lexer": "ipython3",
   "version": "3.9.4"
  }
 },
 "nbformat": 4,
 "nbformat_minor": 5
}
